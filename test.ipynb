{
 "cells": [
  {
   "cell_type": "code",
   "execution_count": 2,
   "metadata": {},
   "outputs": [],
   "source": [
    "from train import *\n",
    "from networks import *\n",
    "from utils import *\n",
    "from dataset import *\n",
    "\n",
    "import torch\n",
    "import torchvision\n",
    "import torchvision.transforms as transforms\n",
    "import warnings\n",
    "\n",
    "warnings.simplefilter(\"ignore\")"
   ]
  },
  {
   "cell_type": "code",
   "execution_count": 3,
   "metadata": {},
   "outputs": [
    {
     "name": "stdout",
     "output_type": "stream",
     "text": [
      "🕺 lets gooooooooooooooooooooooooooo\n"
     ]
    }
   ],
   "source": [
    "print('🕺 lets gooooooooooooooooooooooooooo' if torch.cuda.is_available() else '💩 f@*# the cpu')"
   ]
  },
  {
   "cell_type": "code",
   "execution_count": 15,
   "metadata": {},
   "outputs": [],
   "source": [
    "os.makedirs('results', exist_ok=True)\n",
    "os.makedirs('weights', exist_ok=True)\n",
    "os.makedirs('data/CIFAR10', exist_ok=True)\n",
    "os.makedirs('data/MNIST', exist_ok=True)\n",
    "os.makedirs('data/FashionMNIST', exist_ok=True)\n",
    "\n",
    "transform = transforms.Compose([\n",
    "    transforms.Resize((128, 128)),\n",
    "    transforms.ToTensor(),\n",
    "    transforms.Normalize((0.5,), (0.5,))\n",
    "])\n",
    "\n",
    "datasets = {\n",
    "    'MNIST': {'train':torchvision.datasets.MNIST(root='./data/MNIST', train=True, download=True, transform=transform),\n",
    "              'test':torchvision.datasets.MNIST(root='./data/MNIST', train=False, download=True, transform=transform)},\n",
    "    'FashionMNIST': {'train':torchvision.datasets.FashionMNIST(root='./data/FashionMNIST', train=True, download=True, transform=transform),\n",
    "                     'test':torchvision.datasets.FashionMNIST(root='./data/FashionMNIST', train=False, download=True, transform=transform)},\n",
    "    'CIFAR10': {'train':torchvision.datasets.CIFAR10(root='./data/CIFAR10', train=True, download=True, transform=transform),\n",
    "            'test':torchvision.datasets.CIFAR10(root='./data/CIFAR10', train=False, download=True, transform=transform)},\n",
    "}"
   ]
  },
  {
   "cell_type": "code",
   "execution_count": 5,
   "metadata": {},
   "outputs": [],
   "source": [
    "for name, dataset in datasets.items():\n",
    "    print(f\"Training on {name} dataset\")\n",
    "    model = train_and_evaluate(name, dataset['train'], dataset['test'], device, n_epochs=10)"
   ]
  }
 ],
 "metadata": {
  "kernelspec": {
   "display_name": "torch-rl",
   "language": "python",
   "name": "python3"
  },
  "language_info": {
   "codemirror_mode": {
    "name": "ipython",
    "version": 3
   },
   "file_extension": ".py",
   "mimetype": "text/x-python",
   "name": "python",
   "nbconvert_exporter": "python",
   "pygments_lexer": "ipython3",
   "version": "3.10.14"
  }
 },
 "nbformat": 4,
 "nbformat_minor": 2
}
