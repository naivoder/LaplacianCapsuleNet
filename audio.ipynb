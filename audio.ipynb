{
 "cells": [
  {
   "cell_type": "code",
   "execution_count": 5,
   "id": "2ef5ff24-ac44-4564-92c1-c4ac5a059cb1",
   "metadata": {},
   "outputs": [],
   "source": [
    "import warnings\n",
    "warnings.simplefilter(\"ignore\")"
   ]
  },
  {
   "cell_type": "code",
   "execution_count": null,
   "id": "256953f9-8283-4d88-882b-1be14e167f5f",
   "metadata": {},
   "outputs": [],
   "source": [
    "import torch\n",
    "import torch.nn as nn\n",
    "import torch.optim as optim\n",
    "import torchaudio\n",
    "from torch.utils.data import DataLoader, Dataset\n",
    "\n",
    "class SpeechCommandsDataset(Dataset):\n",
    "    def __init__(self, subset):\n",
    "        self.dataset = torchaudio.datasets.SPEECHCOMMANDS(root='./data/SpeechCommands', download=True, subset=subset)\n",
    "        self.labels = sorted(list(set(dat[2] for dat in self.dataset)))\n",
    "        self.label_to_index = {label: i for i, label in enumerate(self.labels)}\n",
    "\n",
    "    def __len__(self):\n",
    "        return len(self.dataset)\n",
    "\n",
    "    def __getitem__(self, index):\n",
    "        waveform, sample_rate, label, *_ = self.dataset[index]\n",
    "        label_index = self.label_to_index[label]\n",
    "        return waveform, label_index\n",
    "\n",
    "train_dataset = SpeechCommandsDataset(subset='training')\n",
    "test_dataset = SpeechCommandsDataset(subset='testing')\n",
    "\n",
    "train_loader = DataLoader(train_dataset, batch_size=32, shuffle=True)\n",
    "test_loader = DataLoader(test_dataset, batch_size=32, shuffle=False)"
   ]
  },
  {
   "cell_type": "code",
   "execution_count": null,
   "id": "6014c0e2-5aa3-48f1-8e40-07e3f2134d69",
   "metadata": {},
   "outputs": [],
   "source": [
    "class PyramidBlock1D(nn.Module):\n",
    "    def __init__(self, in_channels, out_channels, input_dim):\n",
    "        super(PyramidBlock1D, self).__init__()\n",
    "        self.conv1 = nn.Conv1d(in_channels, out_channels, kernel_size=3, padding=1)\n",
    "        self.ln1 = nn.LayerNorm([out_channels, input_dim])\n",
    "        self.conv2 = nn.Conv1d(out_channels, out_channels, kernel_size=3, padding=1)\n",
    "        self.ln2 = nn.LayerNorm([out_channels, input_dim // 2])\n",
    "        self.dropout = nn.Dropout(0.1)\n",
    "        self.pool = nn.MaxPool1d(2)\n",
    "\n",
    "    def forward(self, x):\n",
    "        x = torch.relu(self.ln1(self.conv1(x)))\n",
    "        x = self.pool(x)\n",
    "        x = torch.relu(self.ln2(self.conv2(x)))\n",
    "        x = self.dropout(x)\n",
    "        return x\n",
    "    \n",
    "class LaplacianNet1D(nn.Module):\n",
    "    def __init__(self, input_shape, num_classes):\n",
    "        super(LaplacianNet1D, self).__init__()\n",
    "        self.fc_input = (256 + input_shape[0]) * (input_shape[1] // 8)  # Adjust based on final dimensions\n",
    "        self.pyramid_block1 = PyramidBlock1D(input_shape[0], 64, input_shape[1])\n",
    "        self.pyramid_block2 = PyramidBlock1D(64 + input_shape[0], 128, input_shape[1] // 2)\n",
    "        self.pyramid_block3 = PyramidBlock1D(128 + input_shape[0], 256, input_shape[1] // 4)\n",
    "        self.fc = nn.Linear(self.fc_input, 128)\n",
    "        self.output = nn.Linear(128, num_classes)\n",
    "        print('Using LaplacianNet1D')\n",
    "\n",
    "    def forward(self, inputs):\n",
    "        x_l1, x_l2, x_l3, x_l4 = inputs\n",
    "\n",
    "        x1 = self.pyramid_block1(x_l1)\n",
    "        x2 = self.pyramid_block2(torch.cat((x1, x_l2), dim=1))\n",
    "        x3 = self.pyramid_block3(torch.cat((x2, x_l3), dim=1))\n",
    "        x = torch.cat([x3, x_l4], dim=1)\n",
    "        x = x.view(x.size(0), -1)\n",
    "        x = nn.functional.relu(self.fc(x))\n",
    "        return self.output(x)\n"
   ]
  },
  {
   "cell_type": "code",
   "execution_count": null,
   "id": "dfec8f4f-afe6-471e-a86a-811464f7a59e",
   "metadata": {},
   "outputs": [],
   "source": [
    "def train(model, device, train_loader, optimizer, criterion):\n",
    "    model.train()\n",
    "    for batch_idx, (data, target) in enumerate(train_loader):\n",
    "        data, target = data.to(device), target.to(device)\n",
    "        optimizer.zero_grad()\n",
    "        # Model expects 4 inputs\n",
    "        inputs = [data] * 4\n",
    "        output = model(inputs)\n",
    "        loss = criterion(output, target)\n",
    "        loss.backward()\n",
    "        optimizer.step()\n",
    "        if batch_idx % 10 == 0:\n",
    "            print(f'Train Epoch: {epoch} [{batch_idx * len(data)}/{len(train_loader.dataset)} '\n",
    "                  f'({100. * batch_idx / len(train_loader):.0f}%)]\\tLoss: {loss.item():.6f}')\n",
    "\n",
    "def test(model, device, test_loader, criterion):\n",
    "    model.eval()\n",
    "    test_loss = 0\n",
    "    correct = 0\n",
    "    with torch.no_grad():\n",
    "        for data, target in test_loader:\n",
    "            data, target = data.to(device), target.to(device)\n",
    "            inputs = [data] * 4\n",
    "            output = model(inputs)\n",
    "            test_loss += criterion(output, target).item()  # Sum up batch loss\n",
    "            pred = output.argmax(dim=1, keepdim=True)  # Get the index of the max log-probability\n",
    "            correct += pred.eq(target.view_as(pred)).sum().item()\n",
    "\n",
    "    test_loss /= len(test_loader.dataset)\n",
    "    print(f'\\nTest set: Average loss: {test_loss:.4f}, Accuracy: {correct}/{len(test_loader.dataset)} '\n",
    "          f'({100. * correct / len(test_loader.dataset):.0f}%)\\n')"
   ]
  },
  {
   "cell_type": "code",
   "execution_count": null,
   "id": "0f18c256-8bc3-437b-9ea7-41378fc22d4f",
   "metadata": {
    "tags": []
   },
   "outputs": [],
   "source": [
    "device = torch.device(\"cuda\" if torch.cuda.is_available() else \"cpu\")\n",
    "# device = torch.device(\"cpu\")\n",
    "input_shape = (1, 16000)  # Assuming 1 channel and 16000 time steps (1 second audio at 16kHz)\n",
    "num_classes = len(train_dataset.labels)\n",
    "\n",
    "model = LaplacianNet1D(input_shape=input_shape, num_classes=num_classes).to(device)\n",
    "optimizer = optim.Adam(model.parameters(), lr=0.001)\n",
    "criterion = nn.CrossEntropyLoss()\n",
    "\n",
    "for epoch in range(1, 11):  # 10 epochs\n",
    "    train(model, device, train_loader, optimizer, criterion)\n",
    "    test(model, device, test_loader, criterion)"
   ]
  },
  {
   "cell_type": "code",
   "execution_count": null,
   "id": "4f6ebd05-c30c-4d16-8d79-9a89dd78fda9",
   "metadata": {},
   "outputs": [],
   "source": []
  }
 ],
 "metadata": {
  "kernelspec": {
   "display_name": "Python 3 (ipykernel)",
   "language": "python",
   "name": "python3"
  },
  "language_info": {
   "codemirror_mode": {
    "name": "ipython",
    "version": 3
   },
   "file_extension": ".py",
   "mimetype": "text/x-python",
   "name": "python",
   "nbconvert_exporter": "python",
   "pygments_lexer": "ipython3",
   "version": "3.10.10"
  }
 },
 "nbformat": 4,
 "nbformat_minor": 5
}
