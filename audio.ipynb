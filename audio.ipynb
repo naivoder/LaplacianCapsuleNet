{
 "cells": [
  {
   "cell_type": "code",
   "execution_count": 1,
   "id": "2ef5ff24-ac44-4564-92c1-c4ac5a059cb1",
   "metadata": {},
   "outputs": [],
   "source": [
    "import warnings\n",
    "warnings.simplefilter(\"ignore\")"
   ]
  },
  {
   "cell_type": "code",
   "execution_count": 22,
   "id": "6bc53021",
   "metadata": {},
   "outputs": [],
   "source": [
    "import torch\n",
    "import torch.nn as nn\n",
    "import torch.optim as optim\n",
    "import torch.nn.functional as F\n",
    "import torchaudio\n",
    "from torch.utils.data import DataLoader, Dataset\n",
    "import os"
   ]
  },
  {
   "cell_type": "code",
   "execution_count": 27,
   "id": "256953f9-8283-4d88-882b-1be14e167f5f",
   "metadata": {},
   "outputs": [],
   "source": [
    "class SpeechCommandsDataset(Dataset):\n",
    "    def __init__(self, subset):\n",
    "        self.dataset = torchaudio.datasets.SPEECHCOMMANDS(root='../data', download=True, subset=subset)\n",
    "        self.label_dict = os.listdir('../data/SpeechCommands/speech_commands_v0.02')\n",
    "\n",
    "        self.data = []\n",
    "        self.labels = []\n",
    "        for i in range(len(self.dataset)):\n",
    "            if self.dataset[i][0].shape == (1,16000):\n",
    "                self.data.append(self.dataset[i][0])\n",
    "                self.labels.append(self.dataset[i][2])\n",
    "\n",
    "    def __len__(self):\n",
    "        return len(self.data)\n",
    "\n",
    "    def __getitem__(self, index):\n",
    "        waveform, label = self.data[index], self.labels[index]\n",
    "        return waveform, self.label_dict.index(label)"
   ]
  },
  {
   "cell_type": "code",
   "execution_count": 51,
   "id": "8da9cc1f",
   "metadata": {},
   "outputs": [],
   "source": [
    "class WaveformPyramidDataset(Dataset):\n",
    "    def __init__(self, dataset):\n",
    "        self.dataset = dataset\n",
    "\n",
    "    def __len__(self):\n",
    "        return len(self.dataset)\n",
    "\n",
    "    def downsample(self, waveform, factor):\n",
    "        return F.interpolate(waveform.unsqueeze(1), size=waveform.size(-1) // factor, mode='linear', align_corners=True).squeeze(1)\n",
    "\n",
    "    def __getitem__(self, idx):\n",
    "        waveform, label = self.dataset[idx]\n",
    "        \n",
    "        g1 = waveform\n",
    "        g2 = self.downsample(g1, 2)\n",
    "        g3 = self.downsample(g2, 2)\n",
    "        g4 = self.downsample(g3, 2)\n",
    "\n",
    "        # Laplacian pyramid differences\n",
    "        l1 = g1\n",
    "        l2 = torch.abs(g1 - F.interpolate(g2.unsqueeze(1), size=g1.size(-1), mode='linear', align_corners=True).squeeze(1))\n",
    "        l3 = torch.abs(g2 - F.interpolate(g3.unsqueeze(1), size=g2.size(-1), mode='linear', align_corners=True).squeeze(1))\n",
    "        l4 = torch.abs(g3 - F.interpolate(g4.unsqueeze(1), size=g3.size(-1), mode='linear', align_corners=True).squeeze(1))\n",
    "\n",
    "        # Ensure all Laplacians are of the same length\n",
    "        l2 = F.interpolate(l2.unsqueeze(1), size=g2.size(-1), mode='linear', align_corners=True).squeeze(1)\n",
    "        l3 = F.interpolate(l3.unsqueeze(1), size=g3.size(-1), mode='linear', align_corners=True).squeeze(1)\n",
    "        l4 = F.interpolate(l4.unsqueeze(1), size=g4.size(-1), mode='linear', align_corners=True).squeeze(1)\n",
    "\n",
    "        return [l1, l2, l3, l4], label"
   ]
  },
  {
   "cell_type": "code",
   "execution_count": 56,
   "id": "6014c0e2-5aa3-48f1-8e40-07e3f2134d69",
   "metadata": {},
   "outputs": [],
   "source": [
    "class PyramidBlock1D(nn.Module):\n",
    "    def __init__(self, in_channels, out_channels, input_dim):\n",
    "        super(PyramidBlock1D, self).__init__()\n",
    "        self.conv1 = nn.Conv1d(in_channels, out_channels, kernel_size=3, padding=1)\n",
    "        self.ln1 = nn.LayerNorm([out_channels, input_dim])\n",
    "        self.conv2 = nn.Conv1d(out_channels, out_channels, kernel_size=3, padding=1)\n",
    "        self.ln2 = nn.LayerNorm([out_channels, input_dim // 2])\n",
    "        self.dropout = nn.Dropout(0.1)  \n",
    "        self.pool = nn.MaxPool1d(2)\n",
    "\n",
    "    def forward(self, x):\n",
    "        x = torch.relu(self.ln1(self.conv1(x)))\n",
    "        x = self.pool(x)\n",
    "        x = torch.relu(self.ln2(self.conv2(x)))\n",
    "        x = self.dropout(x)\n",
    "        return x\n",
    "    \n",
    "class LaplacianNet1D(nn.Module):\n",
    "    def __init__(self, input_shape, num_classes):\n",
    "        super(LaplacianNet1D, self).__init__()\n",
    "        self.fc_input = (256 + input_shape[0]) * (input_shape[1] // 8)  \n",
    "        self.pyramid_block1 = PyramidBlock1D(input_shape[0], 64, input_shape[1])\n",
    "        self.pyramid_block2 = PyramidBlock1D(64 + input_shape[0], 128, input_shape[1] // 2)\n",
    "        self.pyramid_block3 = PyramidBlock1D(128 + input_shape[0], 256, input_shape[1] // 4)\n",
    "        self.fc = nn.Linear(self.fc_input, 128)\n",
    "        self.output = nn.Linear(128, num_classes)\n",
    "        print('Using LaplacianNet1D')\n",
    "\n",
    "    def forward(self, inputs):\n",
    "        x_l1, x_l2, x_l3, x_l4 = inputs\n",
    "\n",
    "        x1 = self.pyramid_block1(x_l1)\n",
    "        x2 = self.pyramid_block2(torch.cat((x1, x_l2), dim=1))\n",
    "        x3 = self.pyramid_block3(torch.cat((x2, x_l3), dim=1))\n",
    "        x = torch.cat([x3, x_l4], dim=1)\n",
    "        x = x.view(x.size(0), -1)\n",
    "        x = nn.functional.relu(self.fc(x))\n",
    "        return self.output(x)"
   ]
  },
  {
   "cell_type": "code",
   "execution_count": 64,
   "id": "dfec8f4f-afe6-471e-a86a-811464f7a59e",
   "metadata": {},
   "outputs": [],
   "source": [
    "def train(model, device, train_loader, optimizer, criterion, epoch):\n",
    "    model.train()\n",
    "    for batch_idx, (data, target) in enumerate(train_loader):\n",
    "        data, target = [d.to(device) for d in data], target.to(device)\n",
    "        \n",
    "        optimizer.zero_grad()\n",
    "        output = model(data)\n",
    "        loss = criterion(output, target)\n",
    "        loss.backward()\n",
    "        optimizer.step()\n",
    "        \n",
    "        if batch_idx % 10 == 0:\n",
    "            print(f'Epoch: {epoch} [{batch_idx * len(data):5d}/{len(train_loader.dataset)} '\n",
    "                  f'({100. * batch_idx / len(train_loader):2.0f}%)]\\tLoss: {loss.item():.6f}', end='\\r')\n",
    "\n",
    "def test(model, device, test_loader, criterion):\n",
    "    model.eval()\n",
    "    test_loss = 0\n",
    "    correct = 0\n",
    "    with torch.no_grad():\n",
    "        for data, target in test_loader:\n",
    "            data, target = [d.to(device) for d in data], target.to(device)\n",
    "            output = model(data)\n",
    "            test_loss += criterion(output, target).item()  # Sum up batch loss\n",
    "            pred = output.argmax(dim=1, keepdim=True)  # Get the index of the max log-probability\n",
    "            correct += pred.eq(target.view_as(pred)).sum().item()\n",
    "\n",
    "    test_loss /= len(test_loader.dataset)\n",
    "    print(f'\\nTest set: Average loss: {test_loss:.4f}, Accuracy: {correct:5d}/{len(test_loader.dataset)} '\n",
    "          f'({100. * correct / len(test_loader.dataset):2.0f}%)\\n')"
   ]
  },
  {
   "cell_type": "code",
   "execution_count": 58,
   "id": "eebf0ad6",
   "metadata": {},
   "outputs": [],
   "source": [
    "train_dataset = SpeechCommandsDataset(subset='training')\n",
    "test_dataset = SpeechCommandsDataset(subset='testing')"
   ]
  },
  {
   "cell_type": "code",
   "execution_count": 59,
   "id": "aff5e103",
   "metadata": {},
   "outputs": [
    {
     "name": "stdout",
     "output_type": "stream",
     "text": [
      "['happy', 'no', 'bird', 'five', 'six', 'marvin', 'seven', '_background_noise_', 'testing_list.txt', 'one', 'visual', 'four', 'LICENSE', 'wow', 'go', 'forward', 'down', 'tree', 'cat', 'yes', 'validation_list.txt', 'eight', 'house', 'up', 'off', 'README.md', 'stop', 'zero', 'learn', 'left', 'dog', 'two', 'right', 'backward', 'nine', 'three', 'bed', 'follow', '.DS_Store', 'on', 'sheila']\n"
     ]
    }
   ],
   "source": [
    "print(train_dataset.label_dict)"
   ]
  },
  {
   "cell_type": "code",
   "execution_count": 60,
   "id": "315438df",
   "metadata": {},
   "outputs": [
    {
     "name": "stdout",
     "output_type": "stream",
     "text": [
      "tensor([[-0.0658, -0.0709, -0.0753,  ..., -0.0700, -0.0731, -0.0704]]) 33\n"
     ]
    }
   ],
   "source": [
    "waveform, label = train_dataset.__getitem__(0)\n",
    "print(waveform, label)"
   ]
  },
  {
   "cell_type": "code",
   "execution_count": 61,
   "id": "093a3edd",
   "metadata": {},
   "outputs": [],
   "source": [
    "train_pyramid_dataset = WaveformPyramidDataset(train_dataset)\n",
    "test_pyramid_dataset = WaveformPyramidDataset(test_dataset)\n",
    "\n",
    "train_loader = DataLoader(train_pyramid_dataset, batch_size=32, shuffle=True)\n",
    "test_loader = DataLoader(test_pyramid_dataset, batch_size=32, shuffle=False)"
   ]
  },
  {
   "cell_type": "code",
   "execution_count": 62,
   "id": "567d616c",
   "metadata": {},
   "outputs": [
    {
     "name": "stdout",
     "output_type": "stream",
     "text": [
      "Input Shape: torch.Size([1, 16000])\n",
      "Num Classes: 41\n"
     ]
    }
   ],
   "source": [
    "input_shape = train_dataset[0][0].shape \n",
    "num_classes = len(train_dataset.label_dict)\n",
    "print(\"Input Shape:\", input_shape)\n",
    "print(\"Num Classes:\", num_classes)"
   ]
  },
  {
   "cell_type": "code",
   "execution_count": 65,
   "id": "0f18c256-8bc3-437b-9ea7-41378fc22d4f",
   "metadata": {
    "tags": []
   },
   "outputs": [
    {
     "name": "stdout",
     "output_type": "stream",
     "text": [
      "Using LaplacianNet1D\n",
      "Train Epoch: 1 [ 7680/76364 (80%)]\tLoss: 3.5868547\r"
     ]
    }
   ],
   "source": [
    "device = torch.device(\"cuda\" if torch.cuda.is_available() else \"cpu\")\n",
    "\n",
    "model = LaplacianNet1D(input_shape=input_shape, num_classes=num_classes).to(device)\n",
    "optimizer = optim.Adam(model.parameters(), lr=0.0003)\n",
    "criterion = nn.CrossEntropyLoss()\n",
    "\n",
    "for epoch in range(1, 11): \n",
    "    train(model, device, train_loader, optimizer, criterion, epoch)\n",
    "    test(model, device, test_loader, criterion)"
   ]
  },
  {
   "cell_type": "code",
   "execution_count": null,
   "id": "4f6ebd05-c30c-4d16-8d79-9a89dd78fda9",
   "metadata": {},
   "outputs": [],
   "source": []
  }
 ],
 "metadata": {
  "kernelspec": {
   "display_name": "Python 3 (ipykernel)",
   "language": "python",
   "name": "python3"
  },
  "language_info": {
   "codemirror_mode": {
    "name": "ipython",
    "version": 3
   },
   "file_extension": ".py",
   "mimetype": "text/x-python",
   "name": "python",
   "nbconvert_exporter": "python",
   "pygments_lexer": "ipython3",
   "version": "3.11.9"
  }
 },
 "nbformat": 4,
 "nbformat_minor": 5
}
